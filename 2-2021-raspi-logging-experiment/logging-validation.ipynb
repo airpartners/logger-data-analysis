{
 "cells": [
  {
   "cell_type": "markdown",
   "metadata": {},
   "source": [
    "# CPC Logging Validation"
   ]
  },
  {
   "cell_type": "markdown",
   "metadata": {},
   "source": [
    "This notebook contains code associated with validating and analyzing CPC/Raspi logging associated with the sensor box prior to deployment in Revere in March 2021. I will start by just loading and exploring the datasets, and then I will explore the extent of the accuracy and reliability associated with the raspberry pi's data logging. Hopefully this file is useful for iterating on the sensor box and also can serve as a reference/container of boilerplate code for future CPC/raspberry pi logs data analysis work. In the context of current progress, I'll create issues in the logger repository for different failures and link them here."
   ]
  },
  {
   "cell_type": "code",
   "execution_count": 64,
   "metadata": {},
   "outputs": [],
   "source": [
    "import bisect\n",
    "from collections import Counter\n",
    "import datetime as dt\n",
    "import math\n",
    "import matplotlib.pyplot as plt\n",
    "import numpy as np\n",
    "import pandas as pd\n",
    "import scipy.stats as stats"
   ]
  },
  {
   "cell_type": "markdown",
   "metadata": {},
   "source": [
    "First, parse the data recorded by the CPC itself."
   ]
  },
  {
   "cell_type": "code",
   "execution_count": 2,
   "metadata": {
    "scrolled": true
   },
   "outputs": [
    {
     "data": {
      "text/html": [
       "<div>\n",
       "<style scoped>\n",
       "    .dataframe tbody tr th:only-of-type {\n",
       "        vertical-align: middle;\n",
       "    }\n",
       "\n",
       "    .dataframe tbody tr th {\n",
       "        vertical-align: top;\n",
       "    }\n",
       "\n",
       "    .dataframe thead th {\n",
       "        text-align: right;\n",
       "    }\n",
       "</style>\n",
       "<table border=\"1\" class=\"dataframe\">\n",
       "  <thead>\n",
       "    <tr style=\"text-align: right;\">\n",
       "      <th></th>\n",
       "      <th>aveconc</th>\n",
       "      <th>concent</th>\n",
       "      <th>rawconc</th>\n",
       "      <th>cnt_sec</th>\n",
       "      <th>condtmp</th>\n",
       "      <th>satttmp</th>\n",
       "      <th>satbtmp</th>\n",
       "      <th>optctmp</th>\n",
       "      <th>inlttmp</th>\n",
       "      <th>smpflow</th>\n",
       "      <th>...</th>\n",
       "      <th>condpwr</th>\n",
       "      <th>sattpwr</th>\n",
       "      <th>satbpwr</th>\n",
       "      <th>optcpwr</th>\n",
       "      <th>satfpwr</th>\n",
       "      <th>exhfpwr</th>\n",
       "      <th>fillcnt</th>\n",
       "      <th>err_num</th>\n",
       "      <th>mcpcpmp</th>\n",
       "      <th>mcpcpwr</th>\n",
       "    </tr>\n",
       "  </thead>\n",
       "  <tbody>\n",
       "    <tr>\n",
       "      <th>count</th>\n",
       "      <td>91185.000000</td>\n",
       "      <td>91185.000000</td>\n",
       "      <td>91185.000000</td>\n",
       "      <td>91185.000000</td>\n",
       "      <td>91185.000000</td>\n",
       "      <td>91185.000000</td>\n",
       "      <td>91185.000000</td>\n",
       "      <td>91185.000000</td>\n",
       "      <td>91185.000000</td>\n",
       "      <td>91185.000000</td>\n",
       "      <td>...</td>\n",
       "      <td>91184.000000</td>\n",
       "      <td>91184.000000</td>\n",
       "      <td>91184.000000</td>\n",
       "      <td>91184.000000</td>\n",
       "      <td>91184.000000</td>\n",
       "      <td>91184.0</td>\n",
       "      <td>91184.000000</td>\n",
       "      <td>91184.0</td>\n",
       "      <td>91184.0</td>\n",
       "      <td>91184.0</td>\n",
       "    </tr>\n",
       "    <tr>\n",
       "      <th>mean</th>\n",
       "      <td>637.529407</td>\n",
       "      <td>637.609400</td>\n",
       "      <td>630.513211</td>\n",
       "      <td>3559.149597</td>\n",
       "      <td>21.978993</td>\n",
       "      <td>47.421997</td>\n",
       "      <td>46.996892</td>\n",
       "      <td>32.098040</td>\n",
       "      <td>31.742437</td>\n",
       "      <td>338.022361</td>\n",
       "      <td>...</td>\n",
       "      <td>249.318422</td>\n",
       "      <td>0.514443</td>\n",
       "      <td>66.057740</td>\n",
       "      <td>17.678705</td>\n",
       "      <td>43.170622</td>\n",
       "      <td>200.0</td>\n",
       "      <td>0.002358</td>\n",
       "      <td>0.0</td>\n",
       "      <td>1.0</td>\n",
       "      <td>1.0</td>\n",
       "    </tr>\n",
       "    <tr>\n",
       "      <th>std</th>\n",
       "      <td>1227.801271</td>\n",
       "      <td>1227.686741</td>\n",
       "      <td>1208.463286</td>\n",
       "      <td>6823.936140</td>\n",
       "      <td>2.057860</td>\n",
       "      <td>2.187245</td>\n",
       "      <td>2.247951</td>\n",
       "      <td>2.092854</td>\n",
       "      <td>2.238682</td>\n",
       "      <td>1.856988</td>\n",
       "      <td>...</td>\n",
       "      <td>9.104697</td>\n",
       "      <td>9.825600</td>\n",
       "      <td>28.358681</td>\n",
       "      <td>16.470893</td>\n",
       "      <td>1.318105</td>\n",
       "      <td>0.0</td>\n",
       "      <td>0.057406</td>\n",
       "      <td>0.0</td>\n",
       "      <td>0.0</td>\n",
       "      <td>0.0</td>\n",
       "    </tr>\n",
       "    <tr>\n",
       "      <th>min</th>\n",
       "      <td>0.000000</td>\n",
       "      <td>0.000000</td>\n",
       "      <td>0.000000</td>\n",
       "      <td>0.000000</td>\n",
       "      <td>18.400000</td>\n",
       "      <td>18.800000</td>\n",
       "      <td>18.800000</td>\n",
       "      <td>19.100000</td>\n",
       "      <td>19.200000</td>\n",
       "      <td>71.000000</td>\n",
       "      <td>...</td>\n",
       "      <td>0.000000</td>\n",
       "      <td>0.000000</td>\n",
       "      <td>0.000000</td>\n",
       "      <td>0.000000</td>\n",
       "      <td>29.000000</td>\n",
       "      <td>200.0</td>\n",
       "      <td>0.000000</td>\n",
       "      <td>0.0</td>\n",
       "      <td>1.0</td>\n",
       "      <td>1.0</td>\n",
       "    </tr>\n",
       "    <tr>\n",
       "      <th>25%</th>\n",
       "      <td>0.000000</td>\n",
       "      <td>0.530000</td>\n",
       "      <td>0.530000</td>\n",
       "      <td>3.000000</td>\n",
       "      <td>20.600000</td>\n",
       "      <td>46.000000</td>\n",
       "      <td>45.600000</td>\n",
       "      <td>30.700000</td>\n",
       "      <td>30.500000</td>\n",
       "      <td>337.000000</td>\n",
       "      <td>...</td>\n",
       "      <td>250.000000</td>\n",
       "      <td>0.000000</td>\n",
       "      <td>45.000000</td>\n",
       "      <td>0.000000</td>\n",
       "      <td>42.000000</td>\n",
       "      <td>200.0</td>\n",
       "      <td>0.000000</td>\n",
       "      <td>0.0</td>\n",
       "      <td>1.0</td>\n",
       "      <td>1.0</td>\n",
       "    </tr>\n",
       "    <tr>\n",
       "      <th>50%</th>\n",
       "      <td>99.000000</td>\n",
       "      <td>99.870000</td>\n",
       "      <td>99.870000</td>\n",
       "      <td>562.000000</td>\n",
       "      <td>21.300000</td>\n",
       "      <td>46.800000</td>\n",
       "      <td>46.400000</td>\n",
       "      <td>31.400000</td>\n",
       "      <td>31.300000</td>\n",
       "      <td>338.000000</td>\n",
       "      <td>...</td>\n",
       "      <td>250.000000</td>\n",
       "      <td>0.000000</td>\n",
       "      <td>45.000000</td>\n",
       "      <td>26.000000</td>\n",
       "      <td>43.000000</td>\n",
       "      <td>200.0</td>\n",
       "      <td>0.000000</td>\n",
       "      <td>0.0</td>\n",
       "      <td>1.0</td>\n",
       "      <td>1.0</td>\n",
       "    </tr>\n",
       "    <tr>\n",
       "      <th>75%</th>\n",
       "      <td>506.000000</td>\n",
       "      <td>505.000000</td>\n",
       "      <td>505.000000</td>\n",
       "      <td>2854.000000</td>\n",
       "      <td>22.800000</td>\n",
       "      <td>48.300000</td>\n",
       "      <td>47.900000</td>\n",
       "      <td>33.000000</td>\n",
       "      <td>32.800000</td>\n",
       "      <td>339.000000</td>\n",
       "      <td>...</td>\n",
       "      <td>250.000000</td>\n",
       "      <td>0.000000</td>\n",
       "      <td>91.000000</td>\n",
       "      <td>26.000000</td>\n",
       "      <td>44.000000</td>\n",
       "      <td>200.0</td>\n",
       "      <td>0.000000</td>\n",
       "      <td>0.0</td>\n",
       "      <td>1.0</td>\n",
       "      <td>1.0</td>\n",
       "    </tr>\n",
       "    <tr>\n",
       "      <th>max</th>\n",
       "      <td>5730.000000</td>\n",
       "      <td>5730.000000</td>\n",
       "      <td>5604.000000</td>\n",
       "      <td>31177.000000</td>\n",
       "      <td>28.800000</td>\n",
       "      <td>54.400000</td>\n",
       "      <td>53.900000</td>\n",
       "      <td>38.900000</td>\n",
       "      <td>37.700000</td>\n",
       "      <td>427.000000</td>\n",
       "      <td>...</td>\n",
       "      <td>250.000000</td>\n",
       "      <td>200.000000</td>\n",
       "      <td>200.000000</td>\n",
       "      <td>200.000000</td>\n",
       "      <td>73.000000</td>\n",
       "      <td>200.0</td>\n",
       "      <td>3.000000</td>\n",
       "      <td>0.0</td>\n",
       "      <td>1.0</td>\n",
       "      <td>1.0</td>\n",
       "    </tr>\n",
       "  </tbody>\n",
       "</table>\n",
       "<p>8 rows × 22 columns</p>\n",
       "</div>"
      ],
      "text/plain": [
       "            aveconc       concent       rawconc       cnt_sec       condtmp  \\\n",
       "count  91185.000000  91185.000000  91185.000000  91185.000000  91185.000000   \n",
       "mean     637.529407    637.609400    630.513211   3559.149597     21.978993   \n",
       "std     1227.801271   1227.686741   1208.463286   6823.936140      2.057860   \n",
       "min        0.000000      0.000000      0.000000      0.000000     18.400000   \n",
       "25%        0.000000      0.530000      0.530000      3.000000     20.600000   \n",
       "50%       99.000000     99.870000     99.870000    562.000000     21.300000   \n",
       "75%      506.000000    505.000000    505.000000   2854.000000     22.800000   \n",
       "max     5730.000000   5730.000000   5604.000000  31177.000000     28.800000   \n",
       "\n",
       "            satttmp       satbtmp       optctmp       inlttmp       smpflow  \\\n",
       "count  91185.000000  91185.000000  91185.000000  91185.000000  91185.000000   \n",
       "mean      47.421997     46.996892     32.098040     31.742437    338.022361   \n",
       "std        2.187245      2.247951      2.092854      2.238682      1.856988   \n",
       "min       18.800000     18.800000     19.100000     19.200000     71.000000   \n",
       "25%       46.000000     45.600000     30.700000     30.500000    337.000000   \n",
       "50%       46.800000     46.400000     31.400000     31.300000    338.000000   \n",
       "75%       48.300000     47.900000     33.000000     32.800000    339.000000   \n",
       "max       54.400000     53.900000     38.900000     37.700000    427.000000   \n",
       "\n",
       "       ...       condpwr       sattpwr       satbpwr       optcpwr  \\\n",
       "count  ...  91184.000000  91184.000000  91184.000000  91184.000000   \n",
       "mean   ...    249.318422      0.514443     66.057740     17.678705   \n",
       "std    ...      9.104697      9.825600     28.358681     16.470893   \n",
       "min    ...      0.000000      0.000000      0.000000      0.000000   \n",
       "25%    ...    250.000000      0.000000     45.000000      0.000000   \n",
       "50%    ...    250.000000      0.000000     45.000000     26.000000   \n",
       "75%    ...    250.000000      0.000000     91.000000     26.000000   \n",
       "max    ...    250.000000    200.000000    200.000000    200.000000   \n",
       "\n",
       "            satfpwr  exhfpwr       fillcnt  err_num  mcpcpmp  mcpcpwr  \n",
       "count  91184.000000  91184.0  91184.000000  91184.0  91184.0  91184.0  \n",
       "mean      43.170622    200.0      0.002358      0.0      1.0      1.0  \n",
       "std        1.318105      0.0      0.057406      0.0      0.0      0.0  \n",
       "min       29.000000    200.0      0.000000      0.0      1.0      1.0  \n",
       "25%       42.000000    200.0      0.000000      0.0      1.0      1.0  \n",
       "50%       43.000000    200.0      0.000000      0.0      1.0      1.0  \n",
       "75%       44.000000    200.0      0.000000      0.0      1.0      1.0  \n",
       "max       73.000000    200.0      3.000000      0.0      1.0      1.0  \n",
       "\n",
       "[8 rows x 22 columns]"
      ]
     },
     "execution_count": 2,
     "metadata": {},
     "output_type": "execute_result"
    }
   ],
   "source": [
    "cpc = pd.read_csv('data/cpc-logged-data.txt', sep='\\t');\n",
    "cpc.describe()\n"
   ]
  },
  {
   "cell_type": "markdown",
   "metadata": {},
   "source": [
    "Next, parse the data collected on the raspi."
   ]
  },
  {
   "cell_type": "code",
   "execution_count": 3,
   "metadata": {},
   "outputs": [
    {
     "data": {
      "text/html": [
       "<div>\n",
       "<style scoped>\n",
       "    .dataframe tbody tr th:only-of-type {\n",
       "        vertical-align: middle;\n",
       "    }\n",
       "\n",
       "    .dataframe tbody tr th {\n",
       "        vertical-align: top;\n",
       "    }\n",
       "\n",
       "    .dataframe thead th {\n",
       "        text-align: right;\n",
       "    }\n",
       "</style>\n",
       "<table border=\"1\" class=\"dataframe\">\n",
       "  <thead>\n",
       "    <tr style=\"text-align: right;\">\n",
       "      <th></th>\n",
       "      <th>concent</th>\n",
       "      <th>rawconc</th>\n",
       "      <th>cnt_sec</th>\n",
       "      <th>condtmp</th>\n",
       "      <th>satttmp</th>\n",
       "      <th>satbtmp</th>\n",
       "      <th>optctmp</th>\n",
       "      <th>inlttmp</th>\n",
       "      <th>smpflow</th>\n",
       "      <th>satflow</th>\n",
       "      <th>...</th>\n",
       "      <th>condpwr</th>\n",
       "      <th>sattpwr</th>\n",
       "      <th>satbpwr</th>\n",
       "      <th>optcpwr</th>\n",
       "      <th>satfpwr</th>\n",
       "      <th>exhfpwr</th>\n",
       "      <th>fillcnt</th>\n",
       "      <th>err_num</th>\n",
       "      <th>mcpcpmp</th>\n",
       "      <th>mcpcpwr</th>\n",
       "    </tr>\n",
       "  </thead>\n",
       "  <tbody>\n",
       "    <tr>\n",
       "      <th>count</th>\n",
       "      <td>54272.000000</td>\n",
       "      <td>54272.000000</td>\n",
       "      <td>54272.000000</td>\n",
       "      <td>54272.000000</td>\n",
       "      <td>54272.000000</td>\n",
       "      <td>54272.000000</td>\n",
       "      <td>54272.000000</td>\n",
       "      <td>54272.000000</td>\n",
       "      <td>54272.000000</td>\n",
       "      <td>54272.000000</td>\n",
       "      <td>...</td>\n",
       "      <td>54272.000000</td>\n",
       "      <td>54272.0</td>\n",
       "      <td>54272.000000</td>\n",
       "      <td>54272.000000</td>\n",
       "      <td>54272.000000</td>\n",
       "      <td>54272.0</td>\n",
       "      <td>54272.000000</td>\n",
       "      <td>54272.0</td>\n",
       "      <td>0.0</td>\n",
       "      <td>0.0</td>\n",
       "    </tr>\n",
       "    <tr>\n",
       "      <th>mean</th>\n",
       "      <td>832.132866</td>\n",
       "      <td>822.539761</td>\n",
       "      <td>4643.132812</td>\n",
       "      <td>20.970677</td>\n",
       "      <td>46.456383</td>\n",
       "      <td>46.026273</td>\n",
       "      <td>31.088816</td>\n",
       "      <td>30.818142</td>\n",
       "      <td>338.060455</td>\n",
       "      <td>338.109393</td>\n",
       "      <td>...</td>\n",
       "      <td>249.602189</td>\n",
       "      <td>0.0</td>\n",
       "      <td>65.569926</td>\n",
       "      <td>17.942770</td>\n",
       "      <td>42.597564</td>\n",
       "      <td>200.0</td>\n",
       "      <td>0.002248</td>\n",
       "      <td>0.0</td>\n",
       "      <td>NaN</td>\n",
       "      <td>NaN</td>\n",
       "    </tr>\n",
       "    <tr>\n",
       "      <th>std</th>\n",
       "      <td>1374.440554</td>\n",
       "      <td>1352.582235</td>\n",
       "      <td>7638.008854</td>\n",
       "      <td>0.776005</td>\n",
       "      <td>0.760655</td>\n",
       "      <td>0.778519</td>\n",
       "      <td>0.795496</td>\n",
       "      <td>1.029014</td>\n",
       "      <td>1.531202</td>\n",
       "      <td>1.637550</td>\n",
       "      <td>...</td>\n",
       "      <td>0.820690</td>\n",
       "      <td>0.0</td>\n",
       "      <td>26.013666</td>\n",
       "      <td>15.011424</td>\n",
       "      <td>0.531678</td>\n",
       "      <td>0.0</td>\n",
       "      <td>0.053222</td>\n",
       "      <td>0.0</td>\n",
       "      <td>NaN</td>\n",
       "      <td>NaN</td>\n",
       "    </tr>\n",
       "    <tr>\n",
       "      <th>min</th>\n",
       "      <td>0.000000</td>\n",
       "      <td>0.000000</td>\n",
       "      <td>0.000000</td>\n",
       "      <td>19.800000</td>\n",
       "      <td>45.300000</td>\n",
       "      <td>44.700000</td>\n",
       "      <td>29.800000</td>\n",
       "      <td>28.600000</td>\n",
       "      <td>318.000000</td>\n",
       "      <td>329.000000</td>\n",
       "      <td>...</td>\n",
       "      <td>247.000000</td>\n",
       "      <td>0.0</td>\n",
       "      <td>0.000000</td>\n",
       "      <td>0.000000</td>\n",
       "      <td>40.000000</td>\n",
       "      <td>200.0</td>\n",
       "      <td>0.000000</td>\n",
       "      <td>0.0</td>\n",
       "      <td>NaN</td>\n",
       "      <td>NaN</td>\n",
       "    </tr>\n",
       "    <tr>\n",
       "      <th>25%</th>\n",
       "      <td>0.880000</td>\n",
       "      <td>0.880000</td>\n",
       "      <td>5.000000</td>\n",
       "      <td>20.100000</td>\n",
       "      <td>45.700000</td>\n",
       "      <td>45.200000</td>\n",
       "      <td>30.300000</td>\n",
       "      <td>30.100000</td>\n",
       "      <td>337.000000</td>\n",
       "      <td>337.000000</td>\n",
       "      <td>...</td>\n",
       "      <td>250.000000</td>\n",
       "      <td>0.0</td>\n",
       "      <td>45.000000</td>\n",
       "      <td>0.000000</td>\n",
       "      <td>42.000000</td>\n",
       "      <td>200.0</td>\n",
       "      <td>0.000000</td>\n",
       "      <td>0.0</td>\n",
       "      <td>NaN</td>\n",
       "      <td>NaN</td>\n",
       "    </tr>\n",
       "    <tr>\n",
       "      <th>50%</th>\n",
       "      <td>219.100000</td>\n",
       "      <td>219.100000</td>\n",
       "      <td>1234.000000</td>\n",
       "      <td>21.000000</td>\n",
       "      <td>46.500000</td>\n",
       "      <td>46.100000</td>\n",
       "      <td>31.200000</td>\n",
       "      <td>31.000000</td>\n",
       "      <td>338.000000</td>\n",
       "      <td>338.000000</td>\n",
       "      <td>...</td>\n",
       "      <td>250.000000</td>\n",
       "      <td>0.0</td>\n",
       "      <td>45.000000</td>\n",
       "      <td>26.000000</td>\n",
       "      <td>43.000000</td>\n",
       "      <td>200.0</td>\n",
       "      <td>0.000000</td>\n",
       "      <td>0.0</td>\n",
       "      <td>NaN</td>\n",
       "      <td>NaN</td>\n",
       "    </tr>\n",
       "    <tr>\n",
       "      <th>75%</th>\n",
       "      <td>738.800000</td>\n",
       "      <td>738.800000</td>\n",
       "      <td>4161.000000</td>\n",
       "      <td>21.500000</td>\n",
       "      <td>47.000000</td>\n",
       "      <td>46.600000</td>\n",
       "      <td>31.600000</td>\n",
       "      <td>31.500000</td>\n",
       "      <td>339.000000</td>\n",
       "      <td>340.000000</td>\n",
       "      <td>...</td>\n",
       "      <td>250.000000</td>\n",
       "      <td>0.0</td>\n",
       "      <td>91.000000</td>\n",
       "      <td>26.000000</td>\n",
       "      <td>43.000000</td>\n",
       "      <td>200.0</td>\n",
       "      <td>0.000000</td>\n",
       "      <td>0.0</td>\n",
       "      <td>NaN</td>\n",
       "      <td>NaN</td>\n",
       "    </tr>\n",
       "    <tr>\n",
       "      <th>max</th>\n",
       "      <td>5078.000000</td>\n",
       "      <td>4979.000000</td>\n",
       "      <td>28193.000000</td>\n",
       "      <td>22.900000</td>\n",
       "      <td>48.300000</td>\n",
       "      <td>48.000000</td>\n",
       "      <td>33.100000</td>\n",
       "      <td>33.000000</td>\n",
       "      <td>347.000000</td>\n",
       "      <td>343.000000</td>\n",
       "      <td>...</td>\n",
       "      <td>250.000000</td>\n",
       "      <td>0.0</td>\n",
       "      <td>200.000000</td>\n",
       "      <td>200.000000</td>\n",
       "      <td>45.000000</td>\n",
       "      <td>200.0</td>\n",
       "      <td>2.000000</td>\n",
       "      <td>0.0</td>\n",
       "      <td>NaN</td>\n",
       "      <td>NaN</td>\n",
       "    </tr>\n",
       "  </tbody>\n",
       "</table>\n",
       "<p>8 rows × 21 columns</p>\n",
       "</div>"
      ],
      "text/plain": [
       "            concent       rawconc       cnt_sec       condtmp       satttmp  \\\n",
       "count  54272.000000  54272.000000  54272.000000  54272.000000  54272.000000   \n",
       "mean     832.132866    822.539761   4643.132812     20.970677     46.456383   \n",
       "std     1374.440554   1352.582235   7638.008854      0.776005      0.760655   \n",
       "min        0.000000      0.000000      0.000000     19.800000     45.300000   \n",
       "25%        0.880000      0.880000      5.000000     20.100000     45.700000   \n",
       "50%      219.100000    219.100000   1234.000000     21.000000     46.500000   \n",
       "75%      738.800000    738.800000   4161.000000     21.500000     47.000000   \n",
       "max     5078.000000   4979.000000  28193.000000     22.900000     48.300000   \n",
       "\n",
       "            satbtmp       optctmp       inlttmp       smpflow       satflow  \\\n",
       "count  54272.000000  54272.000000  54272.000000  54272.000000  54272.000000   \n",
       "mean      46.026273     31.088816     30.818142    338.060455    338.109393   \n",
       "std        0.778519      0.795496      1.029014      1.531202      1.637550   \n",
       "min       44.700000     29.800000     28.600000    318.000000    329.000000   \n",
       "25%       45.200000     30.300000     30.100000    337.000000    337.000000   \n",
       "50%       46.100000     31.200000     31.000000    338.000000    338.000000   \n",
       "75%       46.600000     31.600000     31.500000    339.000000    340.000000   \n",
       "max       48.000000     33.100000     33.000000    347.000000    343.000000   \n",
       "\n",
       "       ...       condpwr  sattpwr       satbpwr       optcpwr       satfpwr  \\\n",
       "count  ...  54272.000000  54272.0  54272.000000  54272.000000  54272.000000   \n",
       "mean   ...    249.602189      0.0     65.569926     17.942770     42.597564   \n",
       "std    ...      0.820690      0.0     26.013666     15.011424      0.531678   \n",
       "min    ...    247.000000      0.0      0.000000      0.000000     40.000000   \n",
       "25%    ...    250.000000      0.0     45.000000      0.000000     42.000000   \n",
       "50%    ...    250.000000      0.0     45.000000     26.000000     43.000000   \n",
       "75%    ...    250.000000      0.0     91.000000     26.000000     43.000000   \n",
       "max    ...    250.000000      0.0    200.000000    200.000000     45.000000   \n",
       "\n",
       "       exhfpwr       fillcnt  err_num  mcpcpmp  mcpcpwr  \n",
       "count  54272.0  54272.000000  54272.0      0.0      0.0  \n",
       "mean     200.0      0.002248      0.0      NaN      NaN  \n",
       "std        0.0      0.053222      0.0      NaN      NaN  \n",
       "min      200.0      0.000000      0.0      NaN      NaN  \n",
       "25%      200.0      0.000000      0.0      NaN      NaN  \n",
       "50%      200.0      0.000000      0.0      NaN      NaN  \n",
       "75%      200.0      0.000000      0.0      NaN      NaN  \n",
       "max      200.0      2.000000      0.0      NaN      NaN  \n",
       "\n",
       "[8 rows x 21 columns]"
      ]
     },
     "execution_count": 3,
     "metadata": {},
     "output_type": "execute_result"
    }
   ],
   "source": [
    "raspi = pd.read_csv('data/raspi-logged-data.csv');\n",
    "raspi.describe()"
   ]
  },
  {
   "cell_type": "markdown",
   "metadata": {},
   "source": [
    "# Pre-Processing\n",
    "I'll start by converting all of the timestamps in each of the files to indexed datetime objects."
   ]
  },
  {
   "cell_type": "code",
   "execution_count": 4,
   "metadata": {},
   "outputs": [],
   "source": [
    "# For CPC data.\n",
    "index = []\n",
    "for date, time in zip(cpc['#YY/MM/DD'], cpc['HR:MN:SC']):\n",
    "    Y = int(date[:2]) + 2000\n",
    "    M = int(date[3:5])\n",
    "    D = int(date[6:8])\n",
    "    H = int(time[:2])\n",
    "    T = int(time[3:5])\n",
    "    S = int(time[6:8])\n",
    "    index.append(dt.datetime(Y, M, D, H, T, S))\n",
    "cpc.index = index"
   ]
  },
  {
   "cell_type": "code",
   "execution_count": 5,
   "metadata": {},
   "outputs": [],
   "source": [
    "# For Raspi Data\n",
    "index = []\n",
    "for timestamp in raspi['#YY/MM/DD:HR:MN:SC']:\n",
    "    Y = int(timestamp[:4])\n",
    "    M = int(timestamp[5:7])\n",
    "    D = int(timestamp[8:10])\n",
    "    H = int(timestamp[11:13])\n",
    "    T = int(timestamp[14:16])\n",
    "    S = int(timestamp[17:19]) # Truncates value instead of rounding\n",
    "    index.append(dt.datetime(Y, M, D, H, T, S))\n",
    "raspi.index = index"
   ]
  },
  {
   "cell_type": "markdown",
   "metadata": {},
   "source": [
    "# Sampling Timestamp Validation\n",
    "\n",
    "## Timing Window\n",
    "We conducted this test between approximately 8:25 AM on 2/17/2021 and 9:45 AM on 2/18/2021, so we would expect to see those start and end indices in the data logs.\n",
    "### CPC\n",
    "We can pull the start and end values of the indexed timestamps to find the range."
   ]
  },
  {
   "cell_type": "code",
   "execution_count": 6,
   "metadata": {},
   "outputs": [
    {
     "name": "stdout",
     "output_type": "stream",
     "text": [
      "Start time: 2021-02-17 08:25:05\n",
      "End time: 2021-02-18 09:44:50\n"
     ]
    }
   ],
   "source": [
    "print(f'Start time: {cpc.index[0]}')\n",
    "print(f'End time: {cpc.index[-1]}')"
   ]
  },
  {
   "cell_type": "markdown",
   "metadata": {},
   "source": [
    "The range here generally reflects the full range of the experiment (with potentially seconds lost on either end); this is sufficient performance for this iteration."
   ]
  },
  {
   "cell_type": "markdown",
   "metadata": {},
   "source": [
    "### Raspberry Pi\n",
    "We can pull the start and end values of the indexed timestamps to find the range. It is important to note that the timestamps here are from the raspberry pi itself, but for this and also for reasons mentioned in the logging accuracy section it would be nice to investigate pulling timestamps directly from the CPC. See [issue 44](https://github.com/airpartners/logger/issues/44) for more context and updates."
   ]
  },
  {
   "cell_type": "code",
   "execution_count": 7,
   "metadata": {},
   "outputs": [
    {
     "name": "stdout",
     "output_type": "stream",
     "text": [
      "Start time: 2021-02-17 15:01:38\n",
      "End time: 2021-02-18 09:45:10\n"
     ]
    }
   ],
   "source": [
    "print(f'Start time: {raspi.index[0]}')\n",
    "print(f'End time: {raspi.index[-1]}')"
   ]
  },
  {
   "cell_type": "markdown",
   "metadata": {},
   "source": [
    "It looks like the raspberry pi is missing about six and a half hours of data from the very beginning of the experiment. See [Issue 29](https://github.com/airpartners/logger/issues/29) for additional updates and context, but we need to ensure that we are logging all of the CPC data."
   ]
  },
  {
   "cell_type": "markdown",
   "metadata": {},
   "source": [
    "## Frequency\n",
    "### CPC\n",
    "The settings on the CPC that we operate with indicate that we should see data updates at a 1 Hz cadence. I'll double checking this by taking a look at the differences between each of the timestamps."
   ]
  },
  {
   "cell_type": "code",
   "execution_count": 16,
   "metadata": {},
   "outputs": [
    {
     "data": {
      "text/plain": [
       "1    91183\n",
       "2        1\n",
       "dtype: int64"
      ]
     },
     "execution_count": 16,
     "metadata": {},
     "output_type": "execute_result"
    }
   ],
   "source": [
    "# Compare every element to the previous.\n",
    "cpc_timestamp_deltas = pd.Series((cpc[1:].index - cpc[:-1].index).seconds)\n",
    "cpc_timestamp_deltas.value_counts()"
   ]
  },
  {
   "cell_type": "markdown",
   "metadata": {},
   "source": [
    "This is almost perfect in its cadence save for a single inconsistency in the middle of the dataset. While I am not sure why this is the case, it's a single inconsistency out of 100,000 data points, which is within a tolerable range of error for the purpose of this application, at least while there are more pressing concerns present as well. It might be worth bringing up in the context of a larger discussion with Brechtel at some point, but I don't feel ready to call it an issue."
   ]
  },
  {
   "cell_type": "markdown",
   "metadata": {},
   "source": [
    "### Raspberry Pi\n",
    "The next thing I will do is evaluate the logging cadence on the raspberry pi, which is a lot more inconsistent. It's first worth evaluating the range and extent of these inconsistencies. "
   ]
  },
  {
   "cell_type": "code",
   "execution_count": 20,
   "metadata": {},
   "outputs": [
    {
     "data": {
      "text/plain": [
       "1    41130\n",
       "2    13141\n",
       "dtype: int64"
      ]
     },
     "execution_count": 20,
     "metadata": {},
     "output_type": "execute_result"
    }
   ],
   "source": [
    "raspi_timestamp_deltas = pd.Series((raspi[1:].index - raspi[:-1].index).seconds)\n",
    "counts = raspi_timestamp_deltas.value_counts()\n",
    "counts"
   ]
  },
  {
   "cell_type": "markdown",
   "metadata": {},
   "source": [
    "It looks like there's quite a bit of skipping happening within the system, so I'll next take a look at the distribution of those skips. Visualizing different sections of this indicates that the shifts are pretty evenly distributed throughout. You can change the `start_bin` variable to see this; I tried like 20 or so points between 1 and 50,000 and saw this pattern (not a fixed width difference between skips, but no places where its sparse). "
   ]
  },
  {
   "cell_type": "markdown",
   "metadata": {},
   "source": [
    "start_bin = 50000\n",
    "number_of_points = 100\n",
    "plt.stem(raspi_timestamp_deltas[start_bin:start_bin + number_of_points], use_line_collection=True)"
   ]
  },
  {
   "cell_type": "markdown",
   "metadata": {},
   "source": [
    "We can also do some more rigorous analysis of the cadence to inform debugging. First, we can take a look at the average number of skips in a certain window. We'll work with the `raspi_timestamp_deltas` variable and use the fact that we know all of the gaps are either one or two seconds to speed things up. "
   ]
  },
  {
   "cell_type": "code",
   "execution_count": 71,
   "metadata": {},
   "outputs": [
    {
     "data": {
      "text/plain": [
       "Counter({24: 426, 25: 116})"
      ]
     },
     "execution_count": 71,
     "metadata": {},
     "output_type": "execute_result"
    }
   ],
   "source": [
    "width = 100 # Number of points per window\n",
    "skips = [] # Number of values that equal 2 \n",
    "skip_time = 2\n",
    "for i in range(int(len(raspi_timestamp_deltas)/ width)):\n",
    "    window = raspi_timestamp_deltas[i*width: i*width + width].values\n",
    "    skips.append(list(window).count(skip_time))\n",
    "Counter(skips)"
   ]
  },
  {
   "cell_type": "markdown",
   "metadata": {},
   "source": [
    "It looks like there are 1-2 skips every 5 data points, which is a pretty major issue in the context of this project."
   ]
  },
  {
   "cell_type": "markdown",
   "metadata": {},
   "source": [
    "# Data Validation"
   ]
  },
  {
   "cell_type": "markdown",
   "metadata": {},
   "source": [
    "## Logging Accuracy"
   ]
  },
  {
   "cell_type": "code",
   "execution_count": null,
   "metadata": {},
   "outputs": [],
   "source": [
    "TODO"
   ]
  },
  {
   "cell_type": "markdown",
   "metadata": {},
   "source": [
    "## Switching Cadence\n",
    "### Consistency in Timing\n",
    "TODO"
   ]
  },
  {
   "cell_type": "code",
   "execution_count": null,
   "metadata": {},
   "outputs": [],
   "source": [
    "#TODO"
   ]
  },
  {
   "cell_type": "markdown",
   "metadata": {},
   "source": [
    "### Consistency in Values\n",
    "TODO"
   ]
  },
  {
   "cell_type": "code",
   "execution_count": null,
   "metadata": {},
   "outputs": [],
   "source": [
    "# TODO"
   ]
  }
 ],
 "metadata": {
  "kernelspec": {
   "display_name": "Python 3",
   "language": "python",
   "name": "python3"
  },
  "language_info": {
   "codemirror_mode": {
    "name": "ipython",
    "version": 3
   },
   "file_extension": ".py",
   "mimetype": "text/x-python",
   "name": "python",
   "nbconvert_exporter": "python",
   "pygments_lexer": "ipython3",
   "version": "3.7.3"
  }
 },
 "nbformat": 4,
 "nbformat_minor": 2
}
